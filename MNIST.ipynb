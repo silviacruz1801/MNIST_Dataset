{
 "cells": [
  {
   "cell_type": "markdown",
   "metadata": {},
   "source": [
    "# MNIST"
   ]
  },
  {
   "cell_type": "markdown",
   "metadata": {},
   "source": [
    "## Dataset"
   ]
  },
  {
   "cell_type": "code",
   "execution_count": 1,
   "metadata": {},
   "outputs": [],
   "source": [
    "import pandas as pd\n",
    "import torch\n",
    "import random\n",
    "import matplotlib.pyplot as plt\n",
    "\n",
    "from collections import OrderedDict\n",
    "from torchvision import transforms\n",
    "from torch.utils.data import Dataset\n",
    "from torch import nn\n",
    "from torch.utils.data import DataLoader\n"
   ]
  },
  {
   "cell_type": "code",
   "execution_count": 2,
   "metadata": {},
   "outputs": [],
   "source": [
    "class MNIST_Dataset(Dataset):\n",
    "    def __init__(self, train_file, test_file, train, transform=None, target_transform=None):\n",
    "        self.train_data = pd.read_csv(train_file)\n",
    "        self.test_data = pd.read_csv(test_file)\n",
    "        self.train = train\n",
    "        self.transform = transform\n",
    "        self.target_transform = target_transform\n",
    "\n",
    "        self.train_set = self.train_data.iloc[:, 1:]\n",
    "        self.train_target = self.train_data.iloc[:, 0]\n",
    "        self.test_set = self.test_data.iloc[:, :]\n",
    "\n",
    "    def __len__(self):\n",
    "        if(self.train):\n",
    "            return len(self.train_target)\n",
    "        else:\n",
    "            return len(self.test_set)\n",
    "\n",
    "    def __getitem__(self, idx):\n",
    "        if(self.train):\n",
    "            image = torch.from_numpy(self.train_set.iloc[idx, :].to_numpy())\n",
    "            image = (image - image.min()) / (image.max() - image.min())\n",
    "            label = self.train_target.iloc[idx]\n",
    "            if self.transform:\n",
    "                image = self.transform(image.type(torch.float))\n",
    "            if self.target_transform:\n",
    "                label = self.target_transform(label)\n",
    "            return image, label\n",
    "        else:\n",
    "            image = torch.from_numpy(self.test_set.iloc[idx, :].to_numpy())\n",
    "            image = (image - image.min()) / (image.max() - image.min())\n",
    "            if self.transform:\n",
    "                image = self.transform(image.type(torch.float))\n",
    "            return image"
   ]
  },
  {
   "cell_type": "code",
   "execution_count": 3,
   "metadata": {},
   "outputs": [],
   "source": [
    "train_data = MNIST_Dataset('./digit-recognizer/train.csv', \n",
    "                           './digit-recognizer/test.csv', \n",
    "                           True)\n",
    "\n",
    "test_data = MNIST_Dataset('./digit-recognizer/train.csv', \n",
    "                          './digit-recognizer/test.csv', \n",
    "                          False)"
   ]
  },
  {
   "cell_type": "code",
   "execution_count": 4,
   "metadata": {},
   "outputs": [
    {
     "data": {
      "image/png": "[encoded data removed]",
      "text/plain": [
       "<Figure size 800x800 with 9 Axes>"
      ]
     },
     "metadata": {},
     "output_type": "display_data"
    }
   ],
   "source": [
    "figure = plt.figure(figsize=(8, 8))\n",
    "fils, cols = 3, 3\n",
    "\n",
    "for i in range(1, cols * fils + 1):\n",
    "    sample_idx = random.randint(0, len(train_data) - 1)\n",
    "    img, label = train_data[sample_idx]\n",
    "\n",
    "    figure.add_subplot(fils, cols, i)\n",
    "    plt.title(str(label))\n",
    "    plt.axis(\"off\")\n",
    "    plt.imshow(img.reshape(28, 28), cmap=\"gray\") # Imagen\n",
    "plt.show()"
   ]
  },
  {
   "cell_type": "code",
   "execution_count": 5,
   "metadata": {},
   "outputs": [
    {
     "name": "stdout",
     "output_type": "stream",
     "text": [
      "Image data type: <class 'torch.Tensor'>\n",
      "Image size: torch.Size([784])\n",
      "Min and max of the image: 0.0, 1.0\n",
      "Target data type: <class 'numpy.int64'>\n"
     ]
    }
   ],
   "source": [
    "print(f'Image data type: {type(img)}')\n",
    "print(f'Image size: {img.shape}')\n",
    "print(f'Min and max of the image: {img.min()}, {img.max()}')\n",
    "print(f'Target data type: {type(label)}')"
   ]
  },
  {
   "cell_type": "code",
   "execution_count": 6,
   "metadata": {},
   "outputs": [
    {
     "name": "stdout",
     "output_type": "stream",
     "text": [
      "Size of the train set: 42000\n",
      "Size of the test set: 28000\n"
     ]
    }
   ],
   "source": [
    "print(f'Size of the train set: {len(train_data)}')\n",
    "print(f'Size of the test set: {len(test_data)}')"
   ]
  },
  {
   "cell_type": "code",
   "execution_count": 7,
   "metadata": {},
   "outputs": [
    {
     "data": {
      "text/plain": [
       "<torch._C.Generator at 0x746bc40397d0>"
      ]
     },
     "execution_count": 7,
     "metadata": {},
     "output_type": "execute_result"
    }
   ],
   "source": [
    "torch.manual_seed(746278)"
   ]
  },
  {
   "cell_type": "code",
   "execution_count": 8,
   "metadata": {},
   "outputs": [
    {
     "name": "stdout",
     "output_type": "stream",
     "text": [
      "Size of the train set: 33600\n",
      "Size of the val set: 8400\n"
     ]
    }
   ],
   "source": [
    "train, val = torch.utils.data.random_split(\n",
    "    train_data, [0.8, 0.2]\n",
    ")\n",
    "\n",
    "print(f'Size of the train set: {len(train)}')\n",
    "print(f'Size of the val set: {len(val)}')"
   ]
  },
  {
   "cell_type": "markdown",
   "metadata": {},
   "source": [
    "## Model"
   ]
  },
  {
   "cell_type": "code",
   "execution_count": 9,
   "metadata": {},
   "outputs": [],
   "source": [
    "class NeuralNetwork(nn.Module):\n",
    "    def __init__(self, input_size, output_size, hidden_size, activation_func):\n",
    "        super().__init__()\n",
    "\n",
    "        self.activation_func = activation_func\n",
    "        self.hidden_size = hidden_size\n",
    "\n",
    "        net_dict = OrderedDict([('layer0', nn.Linear(input_size, hidden_size[0]))])\n",
    "        act = self.set_activation(activation_func)\n",
    "        net_dict[activation_func + '0'] = act\n",
    "\n",
    "        for i in range(1, len(hidden_size)):\n",
    "            net_dict['layer' + str(i)] = nn.Linear(hidden_size[i-1], hidden_size[i])\n",
    "            act = self.set_activation(activation_func)\n",
    "            net_dict[activation_func + str(i)] = act\n",
    "            \n",
    "        net_dict['layer' + str(len(hidden_size))] = nn.Linear(hidden_size[-1], output_size)\n",
    "\n",
    "        self.flatten = nn.Flatten()\n",
    "        self.net = nn.Sequential(net_dict)\n",
    "\n",
    "    def forward(self, x):\n",
    "        x = self.flatten(x)\n",
    "        logits = self.net(x)\n",
    "\n",
    "        return logits\n",
    "    \n",
    "    def set_activation(self, activation_func):\n",
    "        if(activation_func == 'relu'):\n",
    "            return nn.ReLU()\n",
    "        elif(activation_func == 'sigmoid'):\n",
    "            return nn.Sigmoid()\n",
    "        elif(activation_func == 'tanh'):\n",
    "            return nn.Tanh()\n",
    "        else:\n",
    "            return nn.ReLU()\n",
    "\n"
   ]
  },
  {
   "cell_type": "code",
   "execution_count": 10,
   "metadata": {},
   "outputs": [
    {
     "name": "stdout",
     "output_type": "stream",
     "text": [
      "Using cuda\n"
     ]
    }
   ],
   "source": [
    "device = (\n",
    "    \"cuda\" if torch.cuda.is_available()\n",
    "    else \"cpu\"\n",
    ")\n",
    "print(f\"Using {device}\")"
   ]
  },
  {
   "cell_type": "code",
   "execution_count": 11,
   "metadata": {},
   "outputs": [
    {
     "name": "stdout",
     "output_type": "stream",
     "text": [
      "NeuralNetwork(\n",
      "  (flatten): Flatten(start_dim=1, end_dim=-1)\n",
      "  (net): Sequential(\n",
      "    (layer0): Linear(in_features=784, out_features=1024, bias=True)\n",
      "    (tanh0): Tanh()\n",
      "    (layer1): Linear(in_features=1024, out_features=512, bias=True)\n",
      "    (tanh1): Tanh()\n",
      "    (layer2): Linear(in_features=512, out_features=256, bias=True)\n",
      "    (tanh2): Tanh()\n",
      "    (layer3): Linear(in_features=256, out_features=10, bias=True)\n",
      "  )\n",
      ")\n"
     ]
    }
   ],
   "source": [
    "model = NeuralNetwork(784, 10, [1024, 512, 256], 'tanh').to(device)\n",
    "print(model)"
   ]
  },
  {
   "cell_type": "code",
   "execution_count": 12,
   "metadata": {},
   "outputs": [
    {
     "name": "stdout",
     "output_type": "stream",
     "text": [
      "Trainable parameters:  1462538\n"
     ]
    }
   ],
   "source": [
    "total_params = sum(p.numel() for p in model.parameters())\n",
    "print(\"Trainable parameters: \", total_params)"
   ]
  },
  {
   "cell_type": "code",
   "execution_count": 13,
   "metadata": {},
   "outputs": [],
   "source": [
    "BATCH_SIZE = 1000\n",
    "\n",
    "train_loader = DataLoader(\n",
    "    dataset=train,\n",
    "    batch_size=BATCH_SIZE,\n",
    "    shuffle=True\n",
    ")\n",
    "\n",
    "val_loader = DataLoader(\n",
    "    dataset=val,\n",
    "    batch_size=BATCH_SIZE,\n",
    "    shuffle=False\n",
    ")"
   ]
  },
  {
   "cell_type": "code",
   "execution_count": 14,
   "metadata": {},
   "outputs": [],
   "source": [
    "# Hyperparameters\n",
    "LEARNING_RATE = 0.1\n",
    "EPOCHS = 20"
   ]
  },
  {
   "cell_type": "code",
   "execution_count": 15,
   "metadata": {},
   "outputs": [],
   "source": [
    "loss_fn = nn.CrossEntropyLoss()\n",
    "optimizer = torch.optim.SGD(model.parameters(), lr=LEARNING_RATE)"
   ]
  },
  {
   "cell_type": "code",
   "execution_count": 16,
   "metadata": {},
   "outputs": [],
   "source": [
    "# This function is executed for each iteration of the training\n",
    "def train_loop(dataloader, model, loss_fn, optimizer):\n",
    "    train_size = len(dataloader.dataset)\n",
    "    n_batches = len(dataloader)\n",
    "\n",
    "    # Telling pytorch that we are training\n",
    "    model.train()\n",
    "\n",
    "    train_loss, accuracy = 0, 0\n",
    "    for n_batches, (X, y) in enumerate(dataloader):\n",
    "        X, y = X.to(device), y.to(device)\n",
    "\n",
    "        # Forward propagation\n",
    "        logits = model(X.type(torch.float))\n",
    "\n",
    "        # Backpropagation\n",
    "        loss = loss_fn(logits, y)\n",
    "        loss.backward()\n",
    "        optimizer.step()\n",
    "        optimizer.zero_grad()\n",
    "\n",
    "        # Accumulate loss and accuracy\n",
    "        # train_loss <- train_loss + current_loss\n",
    "        # accuracy <- accuracy + n_successes_current\n",
    "        train_loss += loss.item()\n",
    "        accuracy += (logits.argmax(1)==y).type(torch.float).sum().item()\n",
    "\n",
    "        # Training evolution (each 10 batches)\n",
    "        if n_batches % 10 == 0:\n",
    "            # Number of data processed\n",
    "            ndata = n_batches * BATCH_SIZE\n",
    "            print(f\"\\tLoss: {loss.item():>7f}  [{ndata:>5d}/{train_size:>5d}]\")\n",
    "\n",
    "    # Average loss and accuracy\n",
    "    train_loss /= n_batches\n",
    "    accuracy /= train_size\n",
    "\n",
    "    print(f'\\tAverage accuracy/loss:')\n",
    "    print(f'\\t\\tTraining: {(100*accuracy):>0.1f}% / {train_loss:>8f}')"
   ]
  },
  {
   "cell_type": "code",
   "execution_count": 17,
   "metadata": {},
   "outputs": [],
   "source": [
    "# This function is executed for each iteration of the training\n",
    "def val_loop(dataloader, model, loss_fn):\n",
    "    val_size = len(dataloader.dataset)\n",
    "    n_batches = len(dataloader)\n",
    "\n",
    "    # Telling pytorch that we are evaluaiting\n",
    "    model.eval()\n",
    "\n",
    "    val_loss, accuracy = 0, 0\n",
    "    with torch.no_grad():\n",
    "        for X, y in dataloader:\n",
    "            X, y = X.to(device), y.to(device)\n",
    "\n",
    "            # Forward propagation\n",
    "            logits = model(X.type(torch.float))\n",
    "\n",
    "            # Accumulate loss and accuracy\n",
    "            # val_loss <- val_loss + current_loss\n",
    "            # accuracy <- accuracy + n_successes_current\n",
    "            val_loss += loss_fn(logits, y).item()\n",
    "            accuracy += (logits.argmax(1) == y).type(torch.float).sum().item()\n",
    "\n",
    "    # Average loss and accuracy\n",
    "    val_loss /= n_batches\n",
    "    accuracy /= val_size\n",
    "\n",
    "    print(f'\\tAverage accuracy/loss:')\n",
    "    print(f'\\t\\tValidation: {(100*accuracy):>0.1f}% / {val_loss:>8f}')"
   ]
  },
  {
   "cell_type": "code",
   "execution_count": 18,
   "metadata": {},
   "outputs": [
    {
     "name": "stdout",
     "output_type": "stream",
     "text": [
      "Epoch 1/20\n",
      "-------------------------------\n",
      "\tLoss: 2.301147  [    0/33600]\n",
      "\tLoss: 2.172864  [10000/33600]\n",
      "\tLoss: 1.983868  [20000/33600]\n",
      "\tLoss: 1.642919  [30000/33600]\n",
      "\tAverage accuracy/loss:\n",
      "\t\tTraining: 57.1% / 2.068523\n",
      "\tAverage accuracy/loss:\n",
      "\t\tValidation: 67.9% / 1.497454\n",
      "Epoch 2/20\n",
      "-------------------------------\n",
      "\tLoss: 1.480422  [    0/33600]\n",
      "\tLoss: 1.144664  [10000/33600]\n",
      "\tLoss: 0.942724  [20000/33600]\n",
      "\tLoss: 0.809372  [30000/33600]\n",
      "\tAverage accuracy/loss:\n",
      "\t\tTraining: 73.6% / 1.092535\n",
      "\tAverage accuracy/loss:\n",
      "\t\tValidation: 80.6% / 0.764022\n",
      "Epoch 3/20\n",
      "-------------------------------\n",
      "\tLoss: 0.793652  [    0/33600]\n",
      "\tLoss: 0.710458  [10000/33600]\n",
      "\tLoss: 0.618208  [20000/33600]\n",
      "\tLoss: 0.563966  [30000/33600]\n",
      "\tAverage accuracy/loss:\n",
      "\t\tTraining: 82.7% / 0.670915\n",
      "\tAverage accuracy/loss:\n",
      "\t\tValidation: 85.6% / 0.557937\n",
      "Epoch 4/20\n",
      "-------------------------------\n",
      "\tLoss: 0.574267  [    0/33600]\n",
      "\tLoss: 0.545623  [10000/33600]\n",
      "\tLoss: 0.521478  [20000/33600]\n",
      "\tLoss: 0.475429  [30000/33600]\n",
      "\tAverage accuracy/loss:\n",
      "\t\tTraining: 86.1% / 0.524625\n",
      "\tAverage accuracy/loss:\n",
      "\t\tValidation: 87.3% / 0.466624\n",
      "Epoch 5/20\n",
      "-------------------------------\n",
      "\tLoss: 0.418926  [    0/33600]\n",
      "\tLoss: 0.492620  [10000/33600]\n",
      "\tLoss: 0.398689  [20000/33600]\n",
      "\tLoss: 0.436756  [30000/33600]\n",
      "\tAverage accuracy/loss:\n",
      "\t\tTraining: 87.8% / 0.451422\n",
      "\tAverage accuracy/loss:\n",
      "\t\tValidation: 88.3% / 0.417791\n",
      "Epoch 6/20\n",
      "-------------------------------\n",
      "\tLoss: 0.414707  [    0/33600]\n",
      "\tLoss: 0.421556  [10000/33600]\n",
      "\tLoss: 0.435950  [20000/33600]\n",
      "\tLoss: 0.425035  [30000/33600]\n",
      "\tAverage accuracy/loss:\n",
      "\t\tTraining: 88.9% / 0.408854\n",
      "\tAverage accuracy/loss:\n",
      "\t\tValidation: 89.1% / 0.389369\n",
      "Epoch 7/20\n",
      "-------------------------------\n",
      "\tLoss: 0.370754  [    0/33600]\n",
      "\tLoss: 0.391370  [10000/33600]\n",
      "\tLoss: 0.367823  [20000/33600]\n",
      "\tLoss: 0.339624  [30000/33600]\n",
      "\tAverage accuracy/loss:\n",
      "\t\tTraining: 89.4% / 0.382011\n",
      "\tAverage accuracy/loss:\n",
      "\t\tValidation: 89.6% / 0.368699\n",
      "Epoch 8/20\n",
      "-------------------------------\n",
      "\tLoss: 0.330194  [    0/33600]\n",
      "\tLoss: 0.376782  [10000/33600]\n",
      "\tLoss: 0.348095  [20000/33600]\n",
      "\tLoss: 0.310468  [30000/33600]\n",
      "\tAverage accuracy/loss:\n",
      "\t\tTraining: 89.9% / 0.363459\n",
      "\tAverage accuracy/loss:\n",
      "\t\tValidation: 90.0% / 0.356015\n",
      "Epoch 9/20\n",
      "-------------------------------\n",
      "\tLoss: 0.300825  [    0/33600]\n",
      "\tLoss: 0.390483  [10000/33600]\n",
      "\tLoss: 0.306074  [20000/33600]\n",
      "\tLoss: 0.367265  [30000/33600]\n",
      "\tAverage accuracy/loss:\n",
      "\t\tTraining: 90.3% / 0.348335\n",
      "\tAverage accuracy/loss:\n",
      "\t\tValidation: 90.3% / 0.343890\n",
      "Epoch 10/20\n",
      "-------------------------------\n",
      "\tLoss: 0.291701  [    0/33600]\n",
      "\tLoss: 0.328202  [10000/33600]\n",
      "\tLoss: 0.336175  [20000/33600]\n",
      "\tLoss: 0.299182  [30000/33600]\n",
      "\tAverage accuracy/loss:\n",
      "\t\tTraining: 90.6% / 0.335282\n",
      "\tAverage accuracy/loss:\n",
      "\t\tValidation: 90.3% / 0.338275\n",
      "Epoch 11/20\n",
      "-------------------------------\n",
      "\tLoss: 0.311699  [    0/33600]\n",
      "\tLoss: 0.409426  [10000/33600]\n",
      "\tLoss: 0.280060  [20000/33600]\n",
      "\tLoss: 0.309204  [30000/33600]\n",
      "\tAverage accuracy/loss:\n",
      "\t\tTraining: 90.9% / 0.326145\n",
      "\tAverage accuracy/loss:\n",
      "\t\tValidation: 90.6% / 0.330156\n",
      "Epoch 12/20\n",
      "-------------------------------\n",
      "\tLoss: 0.320784  [    0/33600]\n",
      "\tLoss: 0.310143  [10000/33600]\n",
      "\tLoss: 0.310099  [20000/33600]\n",
      "\tLoss: 0.306493  [30000/33600]\n",
      "\tAverage accuracy/loss:\n",
      "\t\tTraining: 91.1% / 0.315958\n",
      "\tAverage accuracy/loss:\n",
      "\t\tValidation: 90.9% / 0.319688\n",
      "Epoch 13/20\n",
      "-------------------------------\n",
      "\tLoss: 0.282166  [    0/33600]\n",
      "\tLoss: 0.320657  [10000/33600]\n",
      "\tLoss: 0.321442  [20000/33600]\n",
      "\tLoss: 0.342506  [30000/33600]\n",
      "\tAverage accuracy/loss:\n",
      "\t\tTraining: 91.3% / 0.308576\n",
      "\tAverage accuracy/loss:\n",
      "\t\tValidation: 91.2% / 0.313924\n",
      "Epoch 14/20\n",
      "-------------------------------\n",
      "\tLoss: 0.283545  [    0/33600]\n",
      "\tLoss: 0.236515  [10000/33600]\n",
      "\tLoss: 0.262387  [20000/33600]\n",
      "\tLoss: 0.268542  [30000/33600]\n",
      "\tAverage accuracy/loss:\n",
      "\t\tTraining: 91.6% / 0.302380\n",
      "\tAverage accuracy/loss:\n",
      "\t\tValidation: 91.4% / 0.307471\n",
      "Epoch 15/20\n",
      "-------------------------------\n",
      "\tLoss: 0.293862  [    0/33600]\n",
      "\tLoss: 0.312303  [10000/33600]\n",
      "\tLoss: 0.332814  [20000/33600]\n",
      "\tLoss: 0.259928  [30000/33600]\n",
      "\tAverage accuracy/loss:\n",
      "\t\tTraining: 91.8% / 0.294882\n",
      "\tAverage accuracy/loss:\n",
      "\t\tValidation: 91.3% / 0.304849\n",
      "Epoch 16/20\n",
      "-------------------------------\n",
      "\tLoss: 0.303307  [    0/33600]\n",
      "\tLoss: 0.323258  [10000/33600]\n",
      "\tLoss: 0.308941  [20000/33600]\n",
      "\tLoss: 0.266209  [30000/33600]\n",
      "\tAverage accuracy/loss:\n",
      "\t\tTraining: 91.8% / 0.289519\n",
      "\tAverage accuracy/loss:\n",
      "\t\tValidation: 91.7% / 0.298603\n",
      "Epoch 17/20\n",
      "-------------------------------\n",
      "\tLoss: 0.251880  [    0/33600]\n",
      "\tLoss: 0.256131  [10000/33600]\n",
      "\tLoss: 0.268843  [20000/33600]\n",
      "\tLoss: 0.281027  [30000/33600]\n",
      "\tAverage accuracy/loss:\n",
      "\t\tTraining: 92.0% / 0.284015\n",
      "\tAverage accuracy/loss:\n",
      "\t\tValidation: 91.8% / 0.294467\n",
      "Epoch 18/20\n",
      "-------------------------------\n",
      "\tLoss: 0.275473  [    0/33600]\n",
      "\tLoss: 0.307224  [10000/33600]\n",
      "\tLoss: 0.261008  [20000/33600]\n",
      "\tLoss: 0.281124  [30000/33600]\n",
      "\tAverage accuracy/loss:\n",
      "\t\tTraining: 92.2% / 0.279061\n",
      "\tAverage accuracy/loss:\n",
      "\t\tValidation: 91.9% / 0.291479\n",
      "Epoch 19/20\n",
      "-------------------------------\n",
      "\tLoss: 0.256984  [    0/33600]\n",
      "\tLoss: 0.229688  [10000/33600]\n",
      "\tLoss: 0.283048  [20000/33600]\n",
      "\tLoss: 0.290792  [30000/33600]\n",
      "\tAverage accuracy/loss:\n",
      "\t\tTraining: 92.1% / 0.274701\n",
      "\tAverage accuracy/loss:\n",
      "\t\tValidation: 92.1% / 0.288524\n",
      "Epoch 20/20\n",
      "-------------------------------\n",
      "\tLoss: 0.278448  [    0/33600]\n",
      "\tLoss: 0.266948  [10000/33600]\n",
      "\tLoss: 0.241414  [20000/33600]\n",
      "\tLoss: 0.246764  [30000/33600]\n",
      "\tAverage accuracy/loss:\n",
      "\t\tTraining: 92.3% / 0.270393\n",
      "\tAverage accuracy/loss:\n",
      "\t\tValidation: 92.0% / 0.287096\n",
      "The model has been trained!\n"
     ]
    }
   ],
   "source": [
    "for t in range(EPOCHS):\n",
    "    print(f\"Epoch {t+1}/{EPOCHS}\\n-------------------------------\")\n",
    "    # Train\n",
    "    train_loop(train_loader, model, loss_fn, optimizer)\n",
    "    # Validate\n",
    "    val_loop(val_loader, model, loss_fn)\n",
    "print(\"The model has been trained!\")"
   ]
  },
  {
   "cell_type": "code",
   "execution_count": 19,
   "metadata": {},
   "outputs": [],
   "source": [
    "def predict(model, img):\n",
    "    logits = model(img.type(torch.float).to(device))\n",
    "\n",
    "    plt.imshow(img.cpu().reshape(28, 28), cmap=\"gray\")\n",
    "    print(logits.argmax(1).item())"
   ]
  },
  {
   "cell_type": "code",
   "execution_count": 20,
   "metadata": {},
   "outputs": [
    {
     "name": "stdout",
     "output_type": "stream",
     "text": [
      "8\n"
     ]
    },
    {
     "data": {
      "image/png": "[encoded data removed]",
      "text/plain": [
       "<Figure size 640x480 with 1 Axes>"
      ]
     },
     "metadata": {},
     "output_type": "display_data"
    }
   ],
   "source": [
    "img = test_data[5749]\n",
    "predict(model, img.unsqueeze(0))"
   ]
  }
 ],
 "metadata": {
  "kernelspec": {
   "display_name": "lessons",
   "language": "python",
   "name": "python3"
  },
  "language_info": {
   "codemirror_mode": {
    "name": "ipython",
    "version": 3
   },
   "file_extension": ".py",
   "mimetype": "text/x-python",
   "name": "python",
   "nbconvert_exporter": "python",
   "pygments_lexer": "ipython3",
   "version": "3.12.7"
  }
 },
 "nbformat": 4,
 "nbformat_minor": 2
}
